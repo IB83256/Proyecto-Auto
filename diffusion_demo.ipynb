{
 "cells": [
  {
   "cell_type": "markdown",
   "id": "1d3c7476",
   "metadata": {},
   "source": [
    "## Diffusion demo"
   ]
  },
  {
   "cell_type": "markdown",
   "id": "e8469033",
   "metadata": {},
   "source": [
    "En este cuaderno se presenta una demostración práctica del uso de los distintos modelos de difusión desarrollados en el proyecto."
   ]
  },
  {
   "cell_type": "markdown",
   "id": "7a741109",
   "metadata": {},
   "source": [
    "### Librerias ###"
   ]
  },
  {
   "cell_type": "code",
   "execution_count": 1,
   "id": "ca266b57",
   "metadata": {},
   "outputs": [
    {
     "name": "stdout",
     "output_type": "stream",
     "text": [
      "Number of threads: 12\n"
     ]
    }
   ],
   "source": [
    "%load_ext autoreload\n",
    "%autoreload 2\n",
    "\n",
    "import numpy as np\n",
    "\n",
    "from functools import partial\n",
    "\n",
    "import torch\n",
    "from torch.utils.data import (\n",
    "    DataLoader,\n",
    "    Subset,\n",
    ")\n",
    "from torchvision import datasets\n",
    "from torchvision.transforms import ToTensor\n",
    "from torchvision.transforms import functional\n",
    "\n",
    "from noise_schedules import LinearSchedule, CosineSchedule\n",
    "from torchvision import transforms\n",
    "from utils.data_loader import load_dataset\n",
    "\n",
    "from utils import (\n",
    "    plot_image_grid,\n",
    "    load_dataset,\n",
    "    plot_image_evolution_color,\n",
    "    sample_initial_latents,\n",
    ")\n",
    "\n",
    "from samplers import predictor_corrector_integrator\n",
    "from diffusion import VPProcess, VEProcess, SubVPProcess\n",
    "\n",
    "\n",
    "n_threads = torch.get_num_threads()\n",
    "print('Number of threads: {:d}'.format(n_threads))\n",
    "\n",
    "device ='cuda'"
   ]
  },
  {
   "cell_type": "markdown",
   "id": "235f52c4",
   "metadata": {},
   "source": [
    "### Carga de datos"
   ]
  },
  {
   "cell_type": "code",
   "execution_count": 2,
   "id": "6e2ce35c",
   "metadata": {},
   "outputs": [],
   "source": [
    "def colorize_grayscale(tensor_img):\n",
    "    if tensor_img.shape[0] == 1:\n",
    "        r, g, b = [torch.rand(1).item() for _ in range(3)]\n",
    "        return torch.cat([tensor_img * r, tensor_img * g, tensor_img * b], dim=0)\n",
    "    return tensor_img\n",
    "\n",
    "transform = transforms.Compose([\n",
    "    transforms.ToTensor(),\n",
    "    transforms.Lambda(colorize_grayscale),\n",
    "])\n",
    "\n",
    "data= load_dataset(\"mnist\", transform=transform, return_loader=False)"
   ]
  },
  {
   "cell_type": "code",
   "execution_count": 3,
   "id": "a2de880b",
   "metadata": {},
   "outputs": [],
   "source": [
    "# Create a subset dataset composed of only images of one of the digits\n",
    "digit = 3\n",
    "indices_digit = torch.where(data.targets == digit)[0]\n",
    "\n",
    "data_train = Subset(data, indices_digit)"
   ]
  },
  {
   "cell_type": "code",
   "execution_count": 4,
   "id": "0dcf8cc3",
   "metadata": {},
   "outputs": [
    {
     "data": {
      "image/png": "[encoded data removed]",
      "text/plain": [
       "<Figure size 300x300 with 1 Axes>"
      ]
     },
     "metadata": {},
     "output_type": "display_data"
    }
   ],
   "source": [
    "# Visualize training images\n",
    "n_rows = 3\n",
    "n_cols = 5\n",
    "\n",
    "_ = plot_image_grid(\n",
    "    images=[data_train[i][0] for i in range(n_rows * n_cols)],\n",
    "    figsize =(3, 3),\n",
    "    n_rows=n_rows,\n",
    "    n_cols=n_cols,\n",
    ")"
   ]
  },
  {
   "cell_type": "markdown",
   "id": "5fa2a044",
   "metadata": {},
   "source": [
    "## Variance Exploiding"
   ]
  },
  {
   "cell_type": "code",
   "execution_count": 5,
   "id": "f4509dd1",
   "metadata": {},
   "outputs": [],
   "source": [
    "sigma = 25.0\n",
    "diffusion_process = VEProcess(\n",
    "    sigma=sigma\n",
    ")"
   ]
  },
  {
   "cell_type": "code",
   "execution_count": 6,
   "id": "b5a4f66f",
   "metadata": {},
   "outputs": [
    {
     "data": {
      "application/vnd.jupyter.widget-view+json": {
       "model_id": "15bec76341f747d6873b3fac33f38b42",
       "version_major": 2,
       "version_minor": 0
      },
      "text/plain": [
       "  0%|          | 0/30 [00:00<?, ?it/s]"
      ]
     },
     "metadata": {},
     "output_type": "display_data"
    },
    {
     "ename": "OutOfMemoryError",
     "evalue": "CUDA out of memory. Tried to allocate 2.00 MiB. GPU 0 has a total capacity of 3.81 GiB of which 3.12 MiB is free. Process 29216 has 3.69 GiB memory in use. Including non-PyTorch memory, this process has 118.00 MiB memory in use. Of the allocated memory 34.20 MiB is allocated by PyTorch, and 13.80 MiB is reserved by PyTorch but unallocated. If reserved but unallocated memory is large try setting PYTORCH_CUDA_ALLOC_CONF=expandable_segments:True to avoid fragmentation.  See documentation for Memory Management  (https://pytorch.org/docs/stable/notes/cuda.html#environment-variables)",
     "output_type": "error",
     "traceback": [
      "\u001b[31m---------------------------------------------------------------------------\u001b[39m",
      "\u001b[31mOutOfMemoryError\u001b[39m                          Traceback (most recent call last)",
      "\u001b[36mCell\u001b[39m\u001b[36m \u001b[39m\u001b[32mIn[6]\u001b[39m\u001b[32m, line 33\u001b[39m\n\u001b[32m     31\u001b[39m x = x.to(device)\n\u001b[32m     32\u001b[39m y = y.to(device)\n\u001b[32m---> \u001b[39m\u001b[32m33\u001b[39m loss = \u001b[43mdiffusion_process\u001b[49m\u001b[43m.\u001b[49m\u001b[43mloss_function\u001b[49m\u001b[43m(\u001b[49m\u001b[43mscore_model\u001b[49m\u001b[43m,\u001b[49m\u001b[43m \u001b[49m\u001b[43mx\u001b[49m\u001b[43m)\u001b[49m\n\u001b[32m     34\u001b[39m optimizer.zero_grad()\n\u001b[32m     35\u001b[39m loss.backward()\n",
      "\u001b[36mFile \u001b[39m\u001b[32m~/Documentos/Carrera/Proyecto-Auto/diffusion/gaussian_process.py:61\u001b[39m, in \u001b[36mGaussianDiffusionProcess.loss_function\u001b[39m\u001b[34m(self, score_model, x_0, eps)\u001b[39m\n\u001b[32m     58\u001b[39m x_t = x_0 + sigma * z\n\u001b[32m     60\u001b[39m \u001b[38;5;66;03m# (5) Score predicho por la red\u001b[39;00m\n\u001b[32m---> \u001b[39m\u001b[32m61\u001b[39m score = \u001b[43mscore_model\u001b[49m\u001b[43m(\u001b[49m\u001b[43mx_t\u001b[49m\u001b[43m,\u001b[49m\u001b[43m \u001b[49m\u001b[43mt\u001b[49m\u001b[43m)\u001b[49m\n\u001b[32m     63\u001b[39m \u001b[38;5;66;03m# (7) MSE \u001b[39;00m\n\u001b[32m     64\u001b[39m loss = torch.mean(torch.norm((score*sigma +z ),dim=(\u001b[32m1\u001b[39m, \u001b[32m2\u001b[39m, \u001b[32m3\u001b[39m),p = \u001b[32m2\u001b[39m)**\u001b[32m2\u001b[39m)\n",
      "\u001b[36mFile \u001b[39m\u001b[32m~/Documentos/Carrera/Proyecto-Auto/entorno_proyecto/lib/python3.12/site-packages/torch/nn/modules/module.py:1751\u001b[39m, in \u001b[36mModule._wrapped_call_impl\u001b[39m\u001b[34m(self, *args, **kwargs)\u001b[39m\n\u001b[32m   1749\u001b[39m     \u001b[38;5;28;01mreturn\u001b[39;00m \u001b[38;5;28mself\u001b[39m._compiled_call_impl(*args, **kwargs)  \u001b[38;5;66;03m# type: ignore[misc]\u001b[39;00m\n\u001b[32m   1750\u001b[39m \u001b[38;5;28;01melse\u001b[39;00m:\n\u001b[32m-> \u001b[39m\u001b[32m1751\u001b[39m     \u001b[38;5;28;01mreturn\u001b[39;00m \u001b[38;5;28;43mself\u001b[39;49m\u001b[43m.\u001b[49m\u001b[43m_call_impl\u001b[49m\u001b[43m(\u001b[49m\u001b[43m*\u001b[49m\u001b[43margs\u001b[49m\u001b[43m,\u001b[49m\u001b[43m \u001b[49m\u001b[43m*\u001b[49m\u001b[43m*\u001b[49m\u001b[43mkwargs\u001b[49m\u001b[43m)\u001b[49m\n",
      "\u001b[36mFile \u001b[39m\u001b[32m~/Documentos/Carrera/Proyecto-Auto/entorno_proyecto/lib/python3.12/site-packages/torch/nn/modules/module.py:1762\u001b[39m, in \u001b[36mModule._call_impl\u001b[39m\u001b[34m(self, *args, **kwargs)\u001b[39m\n\u001b[32m   1757\u001b[39m \u001b[38;5;66;03m# If we don't have any hooks, we want to skip the rest of the logic in\u001b[39;00m\n\u001b[32m   1758\u001b[39m \u001b[38;5;66;03m# this function, and just call forward.\u001b[39;00m\n\u001b[32m   1759\u001b[39m \u001b[38;5;28;01mif\u001b[39;00m \u001b[38;5;129;01mnot\u001b[39;00m (\u001b[38;5;28mself\u001b[39m._backward_hooks \u001b[38;5;129;01mor\u001b[39;00m \u001b[38;5;28mself\u001b[39m._backward_pre_hooks \u001b[38;5;129;01mor\u001b[39;00m \u001b[38;5;28mself\u001b[39m._forward_hooks \u001b[38;5;129;01mor\u001b[39;00m \u001b[38;5;28mself\u001b[39m._forward_pre_hooks\n\u001b[32m   1760\u001b[39m         \u001b[38;5;129;01mor\u001b[39;00m _global_backward_pre_hooks \u001b[38;5;129;01mor\u001b[39;00m _global_backward_hooks\n\u001b[32m   1761\u001b[39m         \u001b[38;5;129;01mor\u001b[39;00m _global_forward_hooks \u001b[38;5;129;01mor\u001b[39;00m _global_forward_pre_hooks):\n\u001b[32m-> \u001b[39m\u001b[32m1762\u001b[39m     \u001b[38;5;28;01mreturn\u001b[39;00m \u001b[43mforward_call\u001b[49m\u001b[43m(\u001b[49m\u001b[43m*\u001b[49m\u001b[43margs\u001b[49m\u001b[43m,\u001b[49m\u001b[43m \u001b[49m\u001b[43m*\u001b[49m\u001b[43m*\u001b[49m\u001b[43mkwargs\u001b[49m\u001b[43m)\u001b[49m\n\u001b[32m   1764\u001b[39m result = \u001b[38;5;28;01mNone\u001b[39;00m\n\u001b[32m   1765\u001b[39m called_always_called_hooks = \u001b[38;5;28mset\u001b[39m()\n",
      "\u001b[36mFile \u001b[39m\u001b[32m~/Documentos/Carrera/Proyecto-Auto/entorno_proyecto/lib/python3.12/site-packages/torch/nn/parallel/data_parallel.py:192\u001b[39m, in \u001b[36mDataParallel.forward\u001b[39m\u001b[34m(self, *inputs, **kwargs)\u001b[39m\n\u001b[32m    189\u001b[39m     module_kwargs = ({},)\n\u001b[32m    191\u001b[39m \u001b[38;5;28;01mif\u001b[39;00m \u001b[38;5;28mlen\u001b[39m(\u001b[38;5;28mself\u001b[39m.device_ids) == \u001b[32m1\u001b[39m:\n\u001b[32m--> \u001b[39m\u001b[32m192\u001b[39m     \u001b[38;5;28;01mreturn\u001b[39;00m \u001b[38;5;28;43mself\u001b[39;49m\u001b[43m.\u001b[49m\u001b[43mmodule\u001b[49m\u001b[43m(\u001b[49m\u001b[43m*\u001b[49m\u001b[43minputs\u001b[49m\u001b[43m[\u001b[49m\u001b[32;43m0\u001b[39;49m\u001b[43m]\u001b[49m\u001b[43m,\u001b[49m\u001b[43m \u001b[49m\u001b[43m*\u001b[49m\u001b[43m*\u001b[49m\u001b[43mmodule_kwargs\u001b[49m\u001b[43m[\u001b[49m\u001b[32;43m0\u001b[39;49m\u001b[43m]\u001b[49m\u001b[43m)\u001b[49m\n\u001b[32m    193\u001b[39m replicas = \u001b[38;5;28mself\u001b[39m.replicate(\u001b[38;5;28mself\u001b[39m.module, \u001b[38;5;28mself\u001b[39m.device_ids[: \u001b[38;5;28mlen\u001b[39m(inputs)])\n\u001b[32m    194\u001b[39m outputs = \u001b[38;5;28mself\u001b[39m.parallel_apply(replicas, inputs, module_kwargs)\n",
      "\u001b[36mFile \u001b[39m\u001b[32m~/Documentos/Carrera/Proyecto-Auto/entorno_proyecto/lib/python3.12/site-packages/torch/nn/modules/module.py:1751\u001b[39m, in \u001b[36mModule._wrapped_call_impl\u001b[39m\u001b[34m(self, *args, **kwargs)\u001b[39m\n\u001b[32m   1749\u001b[39m     \u001b[38;5;28;01mreturn\u001b[39;00m \u001b[38;5;28mself\u001b[39m._compiled_call_impl(*args, **kwargs)  \u001b[38;5;66;03m# type: ignore[misc]\u001b[39;00m\n\u001b[32m   1750\u001b[39m \u001b[38;5;28;01melse\u001b[39;00m:\n\u001b[32m-> \u001b[39m\u001b[32m1751\u001b[39m     \u001b[38;5;28;01mreturn\u001b[39;00m \u001b[38;5;28;43mself\u001b[39;49m\u001b[43m.\u001b[49m\u001b[43m_call_impl\u001b[49m\u001b[43m(\u001b[49m\u001b[43m*\u001b[49m\u001b[43margs\u001b[49m\u001b[43m,\u001b[49m\u001b[43m \u001b[49m\u001b[43m*\u001b[49m\u001b[43m*\u001b[49m\u001b[43mkwargs\u001b[49m\u001b[43m)\u001b[49m\n",
      "\u001b[36mFile \u001b[39m\u001b[32m~/Documentos/Carrera/Proyecto-Auto/entorno_proyecto/lib/python3.12/site-packages/torch/nn/modules/module.py:1762\u001b[39m, in \u001b[36mModule._call_impl\u001b[39m\u001b[34m(self, *args, **kwargs)\u001b[39m\n\u001b[32m   1757\u001b[39m \u001b[38;5;66;03m# If we don't have any hooks, we want to skip the rest of the logic in\u001b[39;00m\n\u001b[32m   1758\u001b[39m \u001b[38;5;66;03m# this function, and just call forward.\u001b[39;00m\n\u001b[32m   1759\u001b[39m \u001b[38;5;28;01mif\u001b[39;00m \u001b[38;5;129;01mnot\u001b[39;00m (\u001b[38;5;28mself\u001b[39m._backward_hooks \u001b[38;5;129;01mor\u001b[39;00m \u001b[38;5;28mself\u001b[39m._backward_pre_hooks \u001b[38;5;129;01mor\u001b[39;00m \u001b[38;5;28mself\u001b[39m._forward_hooks \u001b[38;5;129;01mor\u001b[39;00m \u001b[38;5;28mself\u001b[39m._forward_pre_hooks\n\u001b[32m   1760\u001b[39m         \u001b[38;5;129;01mor\u001b[39;00m _global_backward_pre_hooks \u001b[38;5;129;01mor\u001b[39;00m _global_backward_hooks\n\u001b[32m   1761\u001b[39m         \u001b[38;5;129;01mor\u001b[39;00m _global_forward_hooks \u001b[38;5;129;01mor\u001b[39;00m _global_forward_pre_hooks):\n\u001b[32m-> \u001b[39m\u001b[32m1762\u001b[39m     \u001b[38;5;28;01mreturn\u001b[39;00m \u001b[43mforward_call\u001b[49m\u001b[43m(\u001b[49m\u001b[43m*\u001b[49m\u001b[43margs\u001b[49m\u001b[43m,\u001b[49m\u001b[43m \u001b[49m\u001b[43m*\u001b[49m\u001b[43m*\u001b[49m\u001b[43mkwargs\u001b[49m\u001b[43m)\u001b[49m\n\u001b[32m   1764\u001b[39m result = \u001b[38;5;28;01mNone\u001b[39;00m\n\u001b[32m   1765\u001b[39m called_always_called_hooks = \u001b[38;5;28mset\u001b[39m()\n",
      "\u001b[36mFile \u001b[39m\u001b[32m~/Documentos/Carrera/Proyecto-Auto/score_models/score_net.py:115\u001b[39m, in \u001b[36mScoreNet.forward\u001b[39m\u001b[34m(self, x, t)\u001b[39m\n\u001b[32m    113\u001b[39m h = \u001b[38;5;28mself\u001b[39m.act(h)\n\u001b[32m    114\u001b[39m h = \u001b[38;5;28mself\u001b[39m.tconv3(torch.cat([h, h3], dim=\u001b[32m1\u001b[39m))\n\u001b[32m--> \u001b[39m\u001b[32m115\u001b[39m h += \u001b[38;5;28;43mself\u001b[39;49m\u001b[43m.\u001b[49m\u001b[43mdense6\u001b[49m\u001b[43m(\u001b[49m\u001b[43membed\u001b[49m\u001b[43m)\u001b[49m\n\u001b[32m    116\u001b[39m h = \u001b[38;5;28mself\u001b[39m.tgnorm3(h)\n\u001b[32m    117\u001b[39m h = \u001b[38;5;28mself\u001b[39m.act(h)\n",
      "\u001b[36mFile \u001b[39m\u001b[32m~/Documentos/Carrera/Proyecto-Auto/entorno_proyecto/lib/python3.12/site-packages/torch/nn/modules/module.py:1751\u001b[39m, in \u001b[36mModule._wrapped_call_impl\u001b[39m\u001b[34m(self, *args, **kwargs)\u001b[39m\n\u001b[32m   1749\u001b[39m     \u001b[38;5;28;01mreturn\u001b[39;00m \u001b[38;5;28mself\u001b[39m._compiled_call_impl(*args, **kwargs)  \u001b[38;5;66;03m# type: ignore[misc]\u001b[39;00m\n\u001b[32m   1750\u001b[39m \u001b[38;5;28;01melse\u001b[39;00m:\n\u001b[32m-> \u001b[39m\u001b[32m1751\u001b[39m     \u001b[38;5;28;01mreturn\u001b[39;00m \u001b[38;5;28;43mself\u001b[39;49m\u001b[43m.\u001b[49m\u001b[43m_call_impl\u001b[49m\u001b[43m(\u001b[49m\u001b[43m*\u001b[49m\u001b[43margs\u001b[49m\u001b[43m,\u001b[49m\u001b[43m \u001b[49m\u001b[43m*\u001b[49m\u001b[43m*\u001b[49m\u001b[43mkwargs\u001b[49m\u001b[43m)\u001b[49m\n",
      "\u001b[36mFile \u001b[39m\u001b[32m~/Documentos/Carrera/Proyecto-Auto/entorno_proyecto/lib/python3.12/site-packages/torch/nn/modules/module.py:1762\u001b[39m, in \u001b[36mModule._call_impl\u001b[39m\u001b[34m(self, *args, **kwargs)\u001b[39m\n\u001b[32m   1757\u001b[39m \u001b[38;5;66;03m# If we don't have any hooks, we want to skip the rest of the logic in\u001b[39;00m\n\u001b[32m   1758\u001b[39m \u001b[38;5;66;03m# this function, and just call forward.\u001b[39;00m\n\u001b[32m   1759\u001b[39m \u001b[38;5;28;01mif\u001b[39;00m \u001b[38;5;129;01mnot\u001b[39;00m (\u001b[38;5;28mself\u001b[39m._backward_hooks \u001b[38;5;129;01mor\u001b[39;00m \u001b[38;5;28mself\u001b[39m._backward_pre_hooks \u001b[38;5;129;01mor\u001b[39;00m \u001b[38;5;28mself\u001b[39m._forward_hooks \u001b[38;5;129;01mor\u001b[39;00m \u001b[38;5;28mself\u001b[39m._forward_pre_hooks\n\u001b[32m   1760\u001b[39m         \u001b[38;5;129;01mor\u001b[39;00m _global_backward_pre_hooks \u001b[38;5;129;01mor\u001b[39;00m _global_backward_hooks\n\u001b[32m   1761\u001b[39m         \u001b[38;5;129;01mor\u001b[39;00m _global_forward_hooks \u001b[38;5;129;01mor\u001b[39;00m _global_forward_pre_hooks):\n\u001b[32m-> \u001b[39m\u001b[32m1762\u001b[39m     \u001b[38;5;28;01mreturn\u001b[39;00m \u001b[43mforward_call\u001b[49m\u001b[43m(\u001b[49m\u001b[43m*\u001b[49m\u001b[43margs\u001b[49m\u001b[43m,\u001b[49m\u001b[43m \u001b[49m\u001b[43m*\u001b[49m\u001b[43m*\u001b[49m\u001b[43mkwargs\u001b[49m\u001b[43m)\u001b[49m\n\u001b[32m   1764\u001b[39m result = \u001b[38;5;28;01mNone\u001b[39;00m\n\u001b[32m   1765\u001b[39m called_always_called_hooks = \u001b[38;5;28mset\u001b[39m()\n",
      "\u001b[36mFile \u001b[39m\u001b[32m~/Documentos/Carrera/Proyecto-Auto/score_models/score_net.py:34\u001b[39m, in \u001b[36mDense.forward\u001b[39m\u001b[34m(self, x)\u001b[39m\n\u001b[32m     33\u001b[39m \u001b[38;5;28;01mdef\u001b[39;00m\u001b[38;5;250m \u001b[39m\u001b[34mforward\u001b[39m(\u001b[38;5;28mself\u001b[39m, x):\n\u001b[32m---> \u001b[39m\u001b[32m34\u001b[39m   \u001b[38;5;28;01mreturn\u001b[39;00m \u001b[38;5;28;43mself\u001b[39;49m\u001b[43m.\u001b[49m\u001b[43mdense\u001b[49m\u001b[43m(\u001b[49m\u001b[43mx\u001b[49m\u001b[43m)\u001b[49m[..., \u001b[38;5;28;01mNone\u001b[39;00m, \u001b[38;5;28;01mNone\u001b[39;00m]\n",
      "\u001b[36mFile \u001b[39m\u001b[32m~/Documentos/Carrera/Proyecto-Auto/entorno_proyecto/lib/python3.12/site-packages/torch/nn/modules/module.py:1751\u001b[39m, in \u001b[36mModule._wrapped_call_impl\u001b[39m\u001b[34m(self, *args, **kwargs)\u001b[39m\n\u001b[32m   1749\u001b[39m     \u001b[38;5;28;01mreturn\u001b[39;00m \u001b[38;5;28mself\u001b[39m._compiled_call_impl(*args, **kwargs)  \u001b[38;5;66;03m# type: ignore[misc]\u001b[39;00m\n\u001b[32m   1750\u001b[39m \u001b[38;5;28;01melse\u001b[39;00m:\n\u001b[32m-> \u001b[39m\u001b[32m1751\u001b[39m     \u001b[38;5;28;01mreturn\u001b[39;00m \u001b[38;5;28;43mself\u001b[39;49m\u001b[43m.\u001b[49m\u001b[43m_call_impl\u001b[49m\u001b[43m(\u001b[49m\u001b[43m*\u001b[49m\u001b[43margs\u001b[49m\u001b[43m,\u001b[49m\u001b[43m \u001b[49m\u001b[43m*\u001b[49m\u001b[43m*\u001b[49m\u001b[43mkwargs\u001b[49m\u001b[43m)\u001b[49m\n",
      "\u001b[36mFile \u001b[39m\u001b[32m~/Documentos/Carrera/Proyecto-Auto/entorno_proyecto/lib/python3.12/site-packages/torch/nn/modules/module.py:1762\u001b[39m, in \u001b[36mModule._call_impl\u001b[39m\u001b[34m(self, *args, **kwargs)\u001b[39m\n\u001b[32m   1757\u001b[39m \u001b[38;5;66;03m# If we don't have any hooks, we want to skip the rest of the logic in\u001b[39;00m\n\u001b[32m   1758\u001b[39m \u001b[38;5;66;03m# this function, and just call forward.\u001b[39;00m\n\u001b[32m   1759\u001b[39m \u001b[38;5;28;01mif\u001b[39;00m \u001b[38;5;129;01mnot\u001b[39;00m (\u001b[38;5;28mself\u001b[39m._backward_hooks \u001b[38;5;129;01mor\u001b[39;00m \u001b[38;5;28mself\u001b[39m._backward_pre_hooks \u001b[38;5;129;01mor\u001b[39;00m \u001b[38;5;28mself\u001b[39m._forward_hooks \u001b[38;5;129;01mor\u001b[39;00m \u001b[38;5;28mself\u001b[39m._forward_pre_hooks\n\u001b[32m   1760\u001b[39m         \u001b[38;5;129;01mor\u001b[39;00m _global_backward_pre_hooks \u001b[38;5;129;01mor\u001b[39;00m _global_backward_hooks\n\u001b[32m   1761\u001b[39m         \u001b[38;5;129;01mor\u001b[39;00m _global_forward_hooks \u001b[38;5;129;01mor\u001b[39;00m _global_forward_pre_hooks):\n\u001b[32m-> \u001b[39m\u001b[32m1762\u001b[39m     \u001b[38;5;28;01mreturn\u001b[39;00m \u001b[43mforward_call\u001b[49m\u001b[43m(\u001b[49m\u001b[43m*\u001b[49m\u001b[43margs\u001b[49m\u001b[43m,\u001b[49m\u001b[43m \u001b[49m\u001b[43m*\u001b[49m\u001b[43m*\u001b[49m\u001b[43mkwargs\u001b[49m\u001b[43m)\u001b[49m\n\u001b[32m   1764\u001b[39m result = \u001b[38;5;28;01mNone\u001b[39;00m\n\u001b[32m   1765\u001b[39m called_always_called_hooks = \u001b[38;5;28mset\u001b[39m()\n",
      "\u001b[36mFile \u001b[39m\u001b[32m~/Documentos/Carrera/Proyecto-Auto/entorno_proyecto/lib/python3.12/site-packages/torch/nn/modules/linear.py:125\u001b[39m, in \u001b[36mLinear.forward\u001b[39m\u001b[34m(self, input)\u001b[39m\n\u001b[32m    124\u001b[39m \u001b[38;5;28;01mdef\u001b[39;00m\u001b[38;5;250m \u001b[39m\u001b[34mforward\u001b[39m(\u001b[38;5;28mself\u001b[39m, \u001b[38;5;28minput\u001b[39m: Tensor) -> Tensor:\n\u001b[32m--> \u001b[39m\u001b[32m125\u001b[39m     \u001b[38;5;28;01mreturn\u001b[39;00m \u001b[43mF\u001b[49m\u001b[43m.\u001b[49m\u001b[43mlinear\u001b[49m\u001b[43m(\u001b[49m\u001b[38;5;28;43minput\u001b[39;49m\u001b[43m,\u001b[49m\u001b[43m \u001b[49m\u001b[38;5;28;43mself\u001b[39;49m\u001b[43m.\u001b[49m\u001b[43mweight\u001b[49m\u001b[43m,\u001b[49m\u001b[43m \u001b[49m\u001b[38;5;28;43mself\u001b[39;49m\u001b[43m.\u001b[49m\u001b[43mbias\u001b[49m\u001b[43m)\u001b[49m\n",
      "\u001b[31mOutOfMemoryError\u001b[39m: CUDA out of memory. Tried to allocate 2.00 MiB. GPU 0 has a total capacity of 3.81 GiB of which 3.12 MiB is free. Process 29216 has 3.69 GiB memory in use. Including non-PyTorch memory, this process has 118.00 MiB memory in use. Of the allocated memory 34.20 MiB is allocated by PyTorch, and 13.80 MiB is reserved by PyTorch but unallocated. If reserved but unallocated memory is large try setting PYTORCH_CUDA_ALLOC_CONF=expandable_segments:True to avoid fragmentation.  See documentation for Memory Management  (https://pytorch.org/docs/stable/notes/cuda.html#environment-variables)"
     ]
    }
   ],
   "source": [
    "from score_models import ScoreNet\n",
    "from torch.optim import Adam\n",
    "from tqdm.notebook import trange\n",
    "\n",
    "# Crear el score model usando el sigma_t del VEProcess\n",
    "score_model = torch.nn.DataParallel(\n",
    "    ScoreNet(marginal_prob_std=diffusion_process.sigma_t, in_channels=3)\n",
    "\n",
    ")\n",
    "score_model = score_model.to(device)\n",
    "\n",
    "batch_size = 32\n",
    "\n",
    "data_loader = DataLoader(\n",
    "    data_train,\n",
    "    batch_size=batch_size,\n",
    "    shuffle=True,\n",
    "    num_workers=n_threads,\n",
    ")\n",
    "\n",
    "learning_rate = 1.0e-3\n",
    "optimizer = Adam(score_model.parameters(), lr=learning_rate)\n",
    "\n",
    "n_epochs =  30\n",
    "tqdm_epoch = trange(n_epochs)\n",
    "\n",
    "for epoch in tqdm_epoch:\n",
    "    avg_loss = 0.0\n",
    "    num_items = 0\n",
    "    for x, y in data_loader:\n",
    "        x = x.to(device)\n",
    "        y = y.to(device)\n",
    "        loss = diffusion_process.loss_function(score_model, x)\n",
    "        optimizer.zero_grad()\n",
    "        loss.backward()\n",
    "        optimizer.step()\n",
    "        avg_loss += loss.item() * x.shape[0]\n",
    "        num_items += x.shape[0]\n",
    "\n",
    "    tqdm_epoch.set_description('Average Loss: {:5f}'.format(avg_loss / num_items))\n",
    "\n",
    "    torch.save(score_model.state_dict(), 'check_point.pth')"
   ]
  },
  {
   "cell_type": "code",
   "execution_count": null,
   "id": "ddd66d0f",
   "metadata": {},
   "outputs": [],
   "source": [
    "n_images = 5\n",
    "\n",
    "diffusion_coefficient = diffusion_process.diffusion_coefficient\n",
    "\n",
    "T = 1.0 - 1e-3\n",
    "T_tensor = torch.tensor([T], device=device)\n",
    "variance = diffusion_process.sigma_t(T_tensor) ** 2\n",
    "\n",
    "image_T = sample_initial_latents(\n",
    "    n_images=n_images,\n",
    "    image_shape=(3, 28, 28),\n",
    "    mean=0.0,\n",
    "    std=variance,\n",
    "    device=torch.device(\"cuda\")\n",
    ")\n",
    "\n",
    "with torch.no_grad():\n",
    "    times, synthetic_images_t = predictor_corrector_integrator(\n",
    "        image_T,\n",
    "        t_0=T,\n",
    "        t_end= 1e-3,\n",
    "        n_steps= 2000,\n",
    "        drift_coefficient=lambda x_t, t: diffusion_process.reverse_drift(x_t, t, score_model),\n",
    "        diffusion_coefficient=diffusion_coefficient,\n",
    "        score_function=score_model,\n",
    "        n_corrector_steps=5,\n",
    "        corrector_step_size=0.0001\n",
    "   )"
   ]
  },
  {
   "cell_type": "code",
   "execution_count": null,
   "id": "e06ac143",
   "metadata": {},
   "outputs": [],
   "source": [
    "_ = plot_image_evolution_color(\n",
    "    images=synthetic_images_t.cpu(),\n",
    "    n_images=n_images,\n",
    "    n_intermediate_steps=[0, 5, 200, 300, 400, 450, 470, 480, 490, 500, 1000,1500, 1800, 2000],\n",
    "    figsize=(10, 10),\n",
    ")"
   ]
  },
  {
   "cell_type": "markdown",
   "id": "edc4687c",
   "metadata": {},
   "source": [
    "## Variance Preserve with linear noise"
   ]
  },
  {
   "cell_type": "code",
   "execution_count": null,
   "id": "5c0920c8",
   "metadata": {},
   "outputs": [],
   "source": [
    "# Crear el noise schedule lineal\n",
    "schedule = LinearSchedule(beta_min=0.01, beta_max=5.0)\n",
    "\n",
    "# Instanciar el proceso de difusión Variance Preserving con Linear\n",
    "diffusion_process= VPProcess(noise_schedule=schedule)"
   ]
  },
  {
   "cell_type": "code",
   "execution_count": null,
   "id": "37cdd88d",
   "metadata": {},
   "outputs": [],
   "source": [
    "# Crear el score model usando el sigma_t del VEProcess\n",
    "score_model = torch.nn.DataParallel(\n",
    "    ScoreNet(marginal_prob_std=diffusion_process.sigma_t, in_channels=3)\n",
    "\n",
    ")\n",
    "score_model = score_model.to(device)\n",
    "\n",
    "batch_size = 32\n",
    "\n",
    "data_loader = DataLoader(\n",
    "    data_train,\n",
    "    batch_size=batch_size,\n",
    "    shuffle=True,\n",
    "    num_workers=n_threads,\n",
    ")\n",
    "\n",
    "learning_rate = 1.0e-3\n",
    "optimizer = Adam(score_model.parameters(), lr=learning_rate)\n",
    "\n",
    "n_epochs =  30\n",
    "tqdm_epoch = trange(n_epochs)\n",
    "\n",
    "for epoch in tqdm_epoch:\n",
    "    avg_loss = 0.0\n",
    "    num_items = 0\n",
    "    for x, y in data_loader:\n",
    "        x = x.to(device)\n",
    "        y = y.to(device)\n",
    "        loss = diffusion_process.loss_function(score_model, x)\n",
    "        optimizer.zero_grad()\n",
    "        loss.backward()\n",
    "        optimizer.step()\n",
    "        avg_loss += loss.item() * x.shape[0]\n",
    "        num_items += x.shape[0]\n",
    "\n",
    "    tqdm_epoch.set_description('Average Loss: {:5f}'.format(avg_loss / num_items))\n"
   ]
  },
  {
   "cell_type": "code",
   "execution_count": null,
   "id": "fe144060",
   "metadata": {},
   "outputs": [],
   "source": [
    "n_images = 5\n",
    "\n",
    "diffusion_coefficient = diffusion_process.diffusion_coefficient\n",
    "\n",
    "T = 1.0 - 1e-3\n",
    "T_tensor = torch.tensor([T], device=device)\n",
    "variance = diffusion_process.sigma_t(T_tensor) ** 2\n",
    "\n",
    "image_T = sample_initial_latents(\n",
    "    n_images=n_images,\n",
    "    image_shape=(3, 28, 28),\n",
    "    mean=0.0,\n",
    "    std=variance,\n",
    "    device=torch.device(\"cuda\")\n",
    ")\n",
    "\n",
    "with torch.no_grad():\n",
    "    times, synthetic_images_t = predictor_corrector_integrator(\n",
    "        image_T,\n",
    "        t_0=T,\n",
    "        t_end= 1e-3,\n",
    "        n_steps= 2000,\n",
    "        drift_coefficient=lambda x_t, t: diffusion_process.reverse_drift(x_t, t, score_model),\n",
    "        diffusion_coefficient=diffusion_coefficient,\n",
    "        score_function=score_model,\n",
    "        n_corrector_steps=5,\n",
    "        corrector_step_size=0.0001\n",
    "   )"
   ]
  },
  {
   "cell_type": "code",
   "execution_count": null,
   "id": "7a1e8c78",
   "metadata": {},
   "outputs": [],
   "source": [
    "_ = plot_image_evolution_color(\n",
    "    images=synthetic_images_t.cpu(),\n",
    "    n_images=n_images,\n",
    "    n_intermediate_steps=[0, 5, 200, 300, 400, 450, 470, 480, 490, 500, 1000,1500, 1800, 2000],\n",
    "    figsize=(10, 10),\n",
    ")"
   ]
  },
  {
   "cell_type": "markdown",
   "id": "df22eed7",
   "metadata": {},
   "source": [
    "## Variance Preserve with cosine noise"
   ]
  },
  {
   "cell_type": "code",
   "execution_count": null,
   "id": "d630b986",
   "metadata": {},
   "outputs": [],
   "source": [
    "# Crear el noise schedule lineal\n",
    "schedule = CosineSchedule(s=0.008)\n",
    "\n",
    "# Instanciar el proceso de difusión Variance Preserving con Linear\n",
    "diffusion_process= VPProcess(noise_schedule=schedule)"
   ]
  },
  {
   "cell_type": "code",
   "execution_count": null,
   "id": "49dd1320",
   "metadata": {},
   "outputs": [],
   "source": [
    "# Crear el score model usando el sigma_t del VEProcess\n",
    "score_model = torch.nn.DataParallel(\n",
    "    ScoreNet(marginal_prob_std=diffusion_process.sigma_t, in_channels=3)\n",
    "\n",
    ")\n",
    "score_model = score_model.to(device)\n",
    "\n",
    "batch_size = 32\n",
    "\n",
    "data_loader = DataLoader(\n",
    "    data_train,\n",
    "    batch_size=batch_size,\n",
    "    shuffle=True,\n",
    "    num_workers=n_threads,\n",
    ")\n",
    "\n",
    "learning_rate = 1.0e-3\n",
    "optimizer = Adam(score_model.parameters(), lr=learning_rate)\n",
    "\n",
    "n_epochs =  30\n",
    "tqdm_epoch = trange(n_epochs)\n",
    "\n",
    "for epoch in tqdm_epoch:\n",
    "    avg_loss = 0.0\n",
    "    num_items = 0\n",
    "    for x, y in data_loader:\n",
    "        x = x.to(device)\n",
    "        y = y.to(device)\n",
    "        loss = diffusion_process.loss_function(score_model, x)\n",
    "        optimizer.zero_grad()\n",
    "        loss.backward()\n",
    "        optimizer.step()\n",
    "        avg_loss += loss.item() * x.shape[0]\n",
    "        num_items += x.shape[0]\n",
    "\n",
    "    tqdm_epoch.set_description('Average Loss: {:5f}'.format(avg_loss / num_items))\n"
   ]
  },
  {
   "cell_type": "code",
   "execution_count": null,
   "id": "dd96edd1",
   "metadata": {},
   "outputs": [],
   "source": [
    "n_images = 5\n",
    "\n",
    "diffusion_coefficient = diffusion_process.diffusion_coefficient\n",
    "\n",
    "T = 1.0 - 1e-3\n",
    "T_tensor = torch.tensor([T], device=device)\n",
    "variance = diffusion_process.sigma_t(T_tensor) ** 2\n",
    "\n",
    "image_T = sample_initial_latents(\n",
    "    n_images=n_images,\n",
    "    image_shape=(3, 28, 28),\n",
    "    mean=0.0,\n",
    "    std=variance,\n",
    "    device=torch.device(\"cuda\")\n",
    ")\n",
    "\n",
    "with torch.no_grad():\n",
    "    times, synthetic_images_t = predictor_corrector_integrator(\n",
    "        image_T,\n",
    "        t_0=T,\n",
    "        t_end= 1e-3,\n",
    "        n_steps= 2000,\n",
    "        drift_coefficient=lambda x_t, t: diffusion_process.reverse_drift(x_t, t, score_model),\n",
    "        diffusion_coefficient=diffusion_coefficient,\n",
    "        score_function=score_model,\n",
    "        n_corrector_steps=5,\n",
    "        corrector_step_size=0.0001\n",
    "   )"
   ]
  },
  {
   "cell_type": "code",
   "execution_count": null,
   "id": "f70bc8de",
   "metadata": {},
   "outputs": [],
   "source": [
    "_ = plot_image_evolution_color(\n",
    "    images=synthetic_images_t.cpu(),\n",
    "    n_images=n_images,\n",
    "    n_intermediate_steps=[0, 5, 200, 300, 400, 450, 470, 480, 490, 500, 1000,1500, 1800, 2000],\n",
    "    figsize=(10, 10),\n",
    ")"
   ]
  },
  {
   "cell_type": "markdown",
   "id": "fe848088",
   "metadata": {},
   "source": [
    "## SubVariance Preserve with cosine noise"
   ]
  },
  {
   "cell_type": "code",
   "execution_count": null,
   "id": "7c36e797",
   "metadata": {},
   "outputs": [],
   "source": [
    "# Crear el noise schedule lineal\n",
    "schedule = CosineSchedule(s=0.008)\n",
    "\n",
    "# Instanciar el proceso de difusión Variance Preserving con Linear\n",
    "diffusion_process= SubVPProcess(noise_schedule=schedule)"
   ]
  },
  {
   "cell_type": "code",
   "execution_count": null,
   "id": "038b08a4",
   "metadata": {},
   "outputs": [],
   "source": [
    "# Crear el score model usando el sigma_t del VEProcess\n",
    "score_model = torch.nn.DataParallel(\n",
    "    ScoreNet(marginal_prob_std=diffusion_process.sigma_t, in_channels=3)\n",
    "\n",
    ")\n",
    "score_model = score_model.to(device)\n",
    "\n",
    "batch_size = 32\n",
    "\n",
    "data_loader = DataLoader(\n",
    "    data_train,\n",
    "    batch_size=batch_size,\n",
    "    shuffle=True,\n",
    "    num_workers=n_threads,\n",
    ")\n",
    "\n",
    "learning_rate = 1.0e-3\n",
    "optimizer = Adam(score_model.parameters(), lr=learning_rate)\n",
    "\n",
    "n_epochs =  30\n",
    "tqdm_epoch = trange(n_epochs)\n",
    "\n",
    "for epoch in tqdm_epoch:\n",
    "    avg_loss = 0.0\n",
    "    num_items = 0\n",
    "    for x, y in data_loader:\n",
    "        x = x.to(device)\n",
    "        y = y.to(device)\n",
    "        loss = diffusion_process.loss_function(score_model, x)\n",
    "        optimizer.zero_grad()\n",
    "        loss.backward()\n",
    "        optimizer.step()\n",
    "        avg_loss += loss.item() * x.shape[0]\n",
    "        num_items += x.shape[0]\n",
    "\n",
    "    tqdm_epoch.set_description('Average Loss: {:5f}'.format(avg_loss / num_items))\n"
   ]
  },
  {
   "cell_type": "code",
   "execution_count": null,
   "id": "12b46448",
   "metadata": {},
   "outputs": [],
   "source": [
    "n_images = 5\n",
    "\n",
    "diffusion_coefficient = diffusion_process.diffusion_coefficient\n",
    "\n",
    "T = 1.0 - 1e-3\n",
    "T_tensor = torch.tensor([T], device=device)\n",
    "variance = diffusion_process.sigma_t(T_tensor) ** 2\n",
    "\n",
    "image_T = sample_initial_latents(\n",
    "    n_images=n_images,\n",
    "    image_shape=(3, 28, 28),\n",
    "    mean=0.0,\n",
    "    std=variance,\n",
    "    device=torch.device(\"cuda\")\n",
    ")\n",
    "\n",
    "with torch.no_grad():\n",
    "    times, synthetic_images_t = predictor_corrector_integrator(\n",
    "        image_T,\n",
    "        t_0=T,\n",
    "        t_end= 1e-3,\n",
    "        n_steps= 2000,\n",
    "        drift_coefficient=lambda x_t, t: diffusion_process.reverse_drift(x_t, t, score_model),\n",
    "        diffusion_coefficient=diffusion_coefficient,\n",
    "        score_function=score_model,\n",
    "        n_corrector_steps=5,\n",
    "        corrector_step_size=0.0001\n",
    "   )"
   ]
  },
  {
   "cell_type": "code",
   "execution_count": null,
   "id": "38390aba",
   "metadata": {},
   "outputs": [],
   "source": [
    "_ = plot_image_evolution_color(\n",
    "    images=synthetic_images_t.cpu(),\n",
    "    n_images=n_images,\n",
    "    n_intermediate_steps=[0, 5, 200, 300, 400, 450, 470, 480, 490, 500, 1000,1500, 1800, 2000],\n",
    "    figsize=(10, 10),\n",
    ")"
   ]
  },
  {
   "cell_type": "markdown",
   "id": "cf90e830",
   "metadata": {},
   "source": [
    "## SubVariance Preserve with linear noise"
   ]
  },
  {
   "cell_type": "code",
   "execution_count": null,
   "id": "01ee33b1",
   "metadata": {},
   "outputs": [],
   "source": [
    "# Crear el noise schedule lineal\n",
    "schedule = LinearSchedule(beta_min=0.01, beta_max=5.0)\n",
    "\n",
    "# Instanciar el proceso de difusión Variance Preserving con Linear\n",
    "diffusion_process= SubVPProcess(noise_schedule=schedule)"
   ]
  },
  {
   "cell_type": "code",
   "execution_count": null,
   "id": "8a84b9db",
   "metadata": {},
   "outputs": [],
   "source": [
    "# Crear el score model usando el sigma_t del VEProcess\n",
    "score_model = torch.nn.DataParallel(\n",
    "    ScoreNet(marginal_prob_std=diffusion_process.sigma_t, in_channels=3)\n",
    "\n",
    ")\n",
    "score_model = score_model.to(device)\n",
    "\n",
    "batch_size = 32\n",
    "\n",
    "data_loader = DataLoader(\n",
    "    data_train,\n",
    "    batch_size=batch_size,\n",
    "    shuffle=True,\n",
    "    num_workers=n_threads,\n",
    ")\n",
    "\n",
    "learning_rate = 1.0e-3\n",
    "optimizer = Adam(score_model.parameters(), lr=learning_rate)\n",
    "\n",
    "n_epochs =  30\n",
    "tqdm_epoch = trange(n_epochs)\n",
    "\n",
    "for epoch in tqdm_epoch:\n",
    "    avg_loss = 0.0\n",
    "    num_items = 0\n",
    "    for x, y in data_loader:\n",
    "        x = x.to(device)\n",
    "        y = y.to(device)\n",
    "        loss = diffusion_process.loss_function(score_model, x)\n",
    "        optimizer.zero_grad()\n",
    "        loss.backward()\n",
    "        optimizer.step()\n",
    "        avg_loss += loss.item() * x.shape[0]\n",
    "        num_items += x.shape[0]\n",
    "\n",
    "    tqdm_epoch.set_description('Average Loss: {:5f}'.format(avg_loss / num_items))\n"
   ]
  },
  {
   "cell_type": "code",
   "execution_count": null,
   "id": "af60b2ec",
   "metadata": {},
   "outputs": [],
   "source": [
    "n_images = 5\n",
    "\n",
    "diffusion_coefficient = diffusion_process.diffusion_coefficient\n",
    "\n",
    "T = 1.0 - 1e-3\n",
    "T_tensor = torch.tensor([T], device=device)\n",
    "variance = diffusion_process.sigma_t(T_tensor) ** 2\n",
    "\n",
    "image_T = sample_initial_latents(\n",
    "    n_images=n_images,\n",
    "    image_shape=(3, 28, 28),\n",
    "    mean=0.0,\n",
    "    std=variance,\n",
    "    device=torch.device(\"cuda\")\n",
    ")\n",
    "\n",
    "with torch.no_grad():\n",
    "    times, synthetic_images_t = predictor_corrector_integrator(\n",
    "        image_T,\n",
    "        t_0=T,\n",
    "        t_end= 1e-3,\n",
    "        n_steps= 2000,\n",
    "        drift_coefficient=lambda x_t, t: diffusion_process.reverse_drift(x_t, t, score_model),\n",
    "        diffusion_coefficient=diffusion_coefficient,\n",
    "        score_function=score_model,\n",
    "        n_corrector_steps=5,\n",
    "        corrector_step_size=0.0001\n",
    "   )"
   ]
  },
  {
   "cell_type": "code",
   "execution_count": null,
   "id": "b43431fd",
   "metadata": {},
   "outputs": [],
   "source": [
    "_ = plot_image_evolution_color(\n",
    "    images=synthetic_images_t.cpu(),\n",
    "    n_images=n_images,\n",
    "    n_intermediate_steps=[0, 5, 200, 300, 400, 450, 470, 480, 490, 500, 1000,1500, 1800, 2000],\n",
    "    figsize=(10, 10),\n",
    ")"
   ]
  }
 ],
 "metadata": {
  "kernelspec": {
   "display_name": "entorno_proyecto",
   "language": "python",
   "name": "python3"
  },
  "language_info": {
   "codemirror_mode": {
    "name": "ipython",
    "version": 3
   },
   "file_extension": ".py",
   "mimetype": "text/x-python",
   "name": "python",
   "nbconvert_exporter": "python",
   "pygments_lexer": "ipython3",
   "version": "3.12.3"
  }
 },
 "nbformat": 4,
 "nbformat_minor": 5
}
